{
 "cells": [
  {
   "cell_type": "code",
   "execution_count": 11,
   "id": "3a76f7d3",
   "metadata": {},
   "outputs": [
    {
     "name": "stdout",
     "output_type": "stream",
     "text": [
      "Data type of 5: System.Int32\n",
      "Data type of 5.0: System.Double\n",
      "Data type of 5 > 1: System.Boolean\n",
      "Data type of '5': System.Char\n",
      "Data type of 5 * 2: System.Int32\n",
      "Data type of '5' * 2: System.Int32\n",
      "Data type of '5' + '2': System.Int32\n",
      "Data type of 5 / 2: System.Int32\n",
      "Data type of 5 % 2: System.Int32\n",
      "Data type of 5 == 3: System.Boolean\n",
      "Data type of {5, 2, 1}: System.Int32[]\n",
      "Data type of pi: System.Double\n"
     ]
    }
   ],
   "source": [
    "// QUESTION-1\n",
    "\n",
    "\n",
    "\n",
    "Console.WriteLine(\"Data type of 5: \" + 5.GetType());\n",
    "Console.WriteLine(\"Data type of 5.0: \" + 5.0.GetType());\n",
    "Console.WriteLine(\"Data type of 5 > 1: \" + (5 > 1).GetType());\n",
    "Console.WriteLine(\"Data type of '5': \" + ('5').GetType());\n",
    "Console.WriteLine(\"Data type of 5 * 2: \" + (5 * 2).GetType());\n",
    "Console.WriteLine(\"Data type of '5' * 2: \" + ('5' * 2).GetType());\n",
    "Console.WriteLine(\"Data type of '5' + '2': \" + ('5' + '2').GetType());\n",
    "Console.WriteLine(\"Data type of 5 / 2: \" + (5 / 2).GetType());\n",
    "Console.WriteLine(\"Data type of 5 % 2: \" + (5 % 2).GetType());\n",
    "Console.WriteLine(\"Data type of 5 == 3: \" + (5 == 3).GetType());\n",
    "\n",
    "var numbers = new[] { 5, 2, 1 };\n",
    "        Console.WriteLine(\"Data type of {5, 2, 1}: \" + numbers.GetType());\n",
    "var pi = Math.PI;\n",
    "        Console.WriteLine(\"Data type of pi: \" + pi.GetType());"
   ]
  },
  {
   "cell_type": "code",
   "execution_count": 4,
   "id": "352d4cd8",
   "metadata": {},
   "outputs": [
    {
     "name": "stdout",
     "output_type": "stream",
     "text": [
      "Number of letters: 34\n",
      "It contains 'ice' \n"
     ]
    }
   ],
   "source": [
    "// QUESTION - 2 (a and b)\n",
    "\n",
    "string word = \"Supercalifragilisticexpialidocious\";\n",
    "int numberOfLetters = word.Length;\n",
    "Console.WriteLine(\"Number of letters: \" + numberOfLetters);\n",
    "if (word.Contains(\"ice\"))\n",
    "        {\n",
    "            Console.WriteLine(\"It contains 'ice' \");\n",
    "        }\n",
    "        else\n",
    "        {\n",
    "            Console.WriteLine(\"It does not contain 'ice'\");\n",
    "        }"
   ]
  },
  {
   "cell_type": "code",
   "execution_count": 8,
   "id": "f5cf8e62",
   "metadata": {},
   "outputs": [
    {
     "name": "stdout",
     "output_type": "stream",
     "text": [
      "Longest word: Supercalifragilisticexpialidocious\r\n"
     ]
    }
   ],
   "source": [
    "// QUESTION -2 (c)\n",
    "\n",
    "string word1 = \"Supercalifragilisticexpialidocious\";\n",
    "string word2 = \"Honorificabilitudinitatibus\";\n",
    "string word3 = \"Bababadalgharaghtakamminarronnkonn\";\n",
    "\n",
    "string longestWord;\n",
    "\n",
    "if (word1.Length >= word2.Length && word1.Length >= word3.Length)\n",
    "{\n",
    "    longestWord = word1;\n",
    "}\n",
    "else if (word2.Length >= word1.Length && word2.Length >= word3.Length)\n",
    "{\n",
    "    longestWord = word2;\n",
    "}\n",
    "else\n",
    "{\n",
    "    longestWord = word3;\n",
    "}\n",
    "\n",
    "Console.WriteLine(\"Longest word: \" + longestWord);"
   ]
  },
  {
   "cell_type": "code",
   "execution_count": 9,
   "id": "37950236",
   "metadata": {},
   "outputs": [
    {
     "name": "stdout",
     "output_type": "stream",
     "text": [
      "Bartok\n",
      "Bellini\n",
      "Berlioz\n",
      "Bernstein\n",
      "Borodin\n",
      "Brian\n",
      "Buxtehude\n"
     ]
    }
   ],
   "source": [
    "// QUESTION -2(d)\n",
    "\n",
    "var names = new SortedSet<string>();\n",
    "          names.Add(\"Berlioz\");\n",
    "          names.Add(\"Borodin\");\n",
    "          names.Add(\"Brian\");\n",
    "          names.Add(\"Bartok\");\n",
    "          names.Add(\"Bellini\");\n",
    "          names.Add(\"Buxtehude\");\n",
    "          names.Add(\"Bernstein\");\n",
    "          foreach (var name in names)\n",
    "          {\n",
    "               Console.WriteLine(name);\n",
    "          }"
   ]
  },
  {
   "cell_type": "code",
   "execution_count": 1,
   "id": "de5ccdd4",
   "metadata": {},
   "outputs": [],
   "source": [
    "//QUESTION -3\n",
    "\n",
    "public class TriangleAreaCalculator\n",
    "{\n",
    "    public static void Main(string[] args)\n",
    "    {\n",
    "        Console.WriteLine(\"Please input the length of side 'a' of the triangle:\");\n",
    "        int sideA = int.Parse(Console.ReadLine());\n",
    "\n",
    "        Console.WriteLine(\"Please input the length of side 'b' of the triangle:\");\n",
    "        int sideB = int.Parse(Console.ReadLine());\n",
    "\n",
    "        Console.WriteLine(\"Please input the length of side 'c' of the triangle:\");\n",
    "        int sideC = int.Parse(Console.ReadLine());\n",
    "\n",
    "        double calculatedArea = ComputeTriangleArea(sideA, sideB, sideC);\n",
    "        Console.WriteLine($\"The area of the triangle with sides {sideA}, {sideB}, and {sideC} is: {calculatedArea}\");\n",
    "    }\n",
    "\n",
    "    static double ComputeTriangleArea(double a, double b, double c)\n",
    "    {\n",
    "        double semiPerimeter = (a + b + c) / 2;\n",
    "        double area = Math.Sqrt(semiPerimeter * (semiPerimeter - a) * (semiPerimeter - b) * (semiPerimeter - c));\n",
    "        return area;\n",
    "    }\n",
    "}"
   ]
  },
  {
   "cell_type": "code",
   "execution_count": 5,
   "id": "bb23597e",
   "metadata": {},
   "outputs": [],
   "source": [
    "//QUESTION-4\n",
    "\n",
    "public class NumberClassifier\n",
    "{\n",
    "    public static void Main(string[] args)\n",
    "    {\n",
    "        int evenCount = 0, oddCount = 0;\n",
    "\n",
    "        Console.WriteLine(\"Please enter the number of elements to store:\");\n",
    "        int elementCount = int.Parse(Console.ReadLine());\n",
    "\n",
    "        int[] numbers = new int[100];\n",
    "        int[] evenNumbers = new int[100];\n",
    "        int[] oddNumbers = new int[100];\n",
    "\n",
    "        for (int i = 0; i < elementCount; i++)\n",
    "        {\n",
    "            Console.WriteLine($\"Enter the element at position {i}:\");\n",
    "            numbers[i] = int.Parse(Console.ReadLine());\n",
    "\n",
    "            if (numbers[i] % 2 == 0)\n",
    "            {\n",
    "                evenNumbers[evenCount++] = numbers[i];\n",
    "            }\n",
    "            else\n",
    "            {\n",
    "                oddNumbers[oddCount++] = numbers[i];\n",
    "            }\n",
    "        }\n",
    "\n",
    "        for (int i = 0; i < elementCount; i++)\n",
    "        {\n",
    "            Console.WriteLine($\"Element {i}: {numbers[i]}\");\n",
    "        }\n",
    "\n",
    "        Console.Write(\"Even elements: \");\n",
    "        for (int i = 0; i < evenCount; i++)\n",
    "        {\n",
    "            Console.Write($\"{evenNumbers[i]} \");\n",
    "        }\n",
    "        Console.WriteLine();\n",
    "\n",
    "        Console.Write(\"Odd elements: \");\n",
    "        for (int i = 0; i < oddCount; i++)\n",
    "        {\n",
    "            Console.Write($\"{oddNumbers[i]} \");\n",
    "        }\n",
    "    }\n",
    "}"
   ]
  },
  {
   "cell_type": "code",
   "execution_count": null,
   "id": "1a1a2c17",
   "metadata": {},
   "outputs": [],
   "source": [
    "//question-5\n",
    "\n",
    "//part-a\n",
    "\n",
    "class Program\n",
    "{\n",
    "    static void Main()\n",
    "    {\n",
    "        Console.WriteLine(\"Please input the x-coordinate:\");\n",
    "        double x = double.Parse(Console.ReadLine());\n",
    "        Console.WriteLine(\"Please input the y-coordinate:\");\n",
    "        double y = double.Parse(Console.ReadLine());\n",
    "        Console.WriteLine(\"Enter the x-coordinate of the lower-left corner of the rectangle:\");\n",
    "        double x1 = double.Parse(Console.ReadLine());\n",
    "        Console.WriteLine(\"Enter the y-coordinate of the lower-left corner of the rectangle:\");\n",
    "        double y1 = double.Parse(Console.ReadLine());\n",
    "        Console.WriteLine(\"Enter the x-coordinate of the upper-right corner of the rectangle:\");\n",
    "        double x2 = double.Parse(Console.ReadLine());\n",
    "        Console.WriteLine(\"Enter the y-coordinate of the upper-right corner of the rectangle:\");\n",
    "        double y2 = double.Parse(Console.ReadLine());\n",
    "        \n",
    "        bool isInsideRectangle = IsPointInsideRectangle(x, y, x1, y1, x2, y2);\n",
    "        Console.WriteLine(isInsideRectangle);\n",
    "\n",
    "        // Part b\n",
    "        if (IsPointInsideRectangle(1, 1, 0.3, 0.5, 1.1, 0.7) && IsPointInsideRectangle(1, 1, 0.5, 0.2, 1.1, 2))\n",
    "        {\n",
    "            Console.WriteLine(\"The point (1, 1) resides inside both rectangles.\");\n",
    "        }\n",
    "        else\n",
    "        {\n",
    "            Console.WriteLine(\"The point (1, 1) does not reside inside both rectangles.\");\n",
    "        }\n",
    "    }\n",
    "\n",
    "    static bool IsPointInsideRectangle(double x, double y, double x1, double y1, double x2, double y2)\n",
    "    {\n",
    "        // Check if the point (x, y) is inside the rectangle\n",
    "        return x > x1 && x < x2 && y > y1 && y < y2;\n",
    "    }\n",
    "}"
   ]
  }
 ],
 "metadata": {
  "kernelspec": {
   "display_name": ".NET (C#)",
   "language": "C#",
   "name": ".net-csharp"
  },
  "language_info": {
   "file_extension": ".cs",
   "mimetype": "text/x-csharp",
   "name": "C#",
   "pygments_lexer": "csharp",
   "version": "8.0"
  }
 },
 "nbformat": 4,
 "nbformat_minor": 5
}
